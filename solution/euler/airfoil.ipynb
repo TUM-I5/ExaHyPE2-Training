{
 "cells": [
  {
   "cell_type": "code",
   "execution_count": null,
   "metadata": {},
   "outputs": [],
   "source": [
    "# Remove any generated glue code\n",
    "!find . -mindepth 1 ! \\( -name \"airfoil.ipynb\" -o -name \"EulerSolver.cpp\" -o -name \"exahype.log-filter\" \\) -exec rm -rf {} +"
   ]
  },
  {
   "cell_type": "code",
   "execution_count": null,
   "metadata": {},
   "outputs": [],
   "source": [
    "import peano4, exahype2\n",
    "\n",
    "domain_size = [120.0,  120.0]\n",
    "domain_offset = [-10.0, -10.0]\n",
    "min_depth = 5\n",
    "max_depth = 0  # AMR levels\n",
    "\n",
    "unknowns = { \"p\": 1, \"v\": 2, \"E\": 1 }\n",
    "auxiliary_variables = {}\n",
    "max_h = 1.1 * min(domain_size) / (3.0 ** min_depth)\n",
    "min_h = max_h / (3.0 ** max_depth)\n",
    "\n",
    "my_solver = exahype2.solvers.fv.rusanov.GlobalAdaptiveTimeStep(\n",
    "    name                  = \"EulerSolver\",\n",
    "    patch_size            = 22,\n",
    "    min_volume_h          = min_h,\n",
    "    max_volume_h          = max_h,\n",
    "    time_step_relaxation  = 0.1,\n",
    "    unknowns              = unknowns,\n",
    "    auxiliary_variables   = auxiliary_variables\n",
    ")\n",
    "\n",
    "my_solver.plot_description = \", \".join(unknowns.keys())\n",
    "\n",
    "my_solver.set_implementation(\n",
    "    initial_conditions    = exahype2.solvers.PDETerms.User_Defined_Implementation,\n",
    "    boundary_conditions   = exahype2.solvers.PDETerms.User_Defined_Implementation,\n",
    "    eigenvalues           = exahype2.solvers.PDETerms.User_Defined_Implementation,\n",
    "    flux                  = exahype2.solvers.PDETerms.User_Defined_Implementation,\n",
    "    # ncp                 = exahype2.solvers.PDETerms.User_Defined_Implementation\n",
    ")\n",
    "\n",
    "exahype2_project = exahype2.Project(\n",
    "    namespace     = [\"exahype2\", \"training\", \"euler\"],\n",
    "    directory     = \".\",\n",
    "    project_name  = \"Airfoil\",\n",
    "    executable    = \"Airfoil\"\n",
    ")\n",
    "\n",
    "exahype2_project.add_solver(my_solver)\n",
    "exahype2_project.set_output_path(\"solutions\")\n",
    "\n",
    "exahype2_project.set_global_simulation_parameters(\n",
    "    dimensions            = 2,\n",
    "    size                  = domain_size,\n",
    "    offset                = domain_offset,\n",
    "    min_end_time          = 10.,\n",
    "    max_end_time          = 10.,\n",
    "    first_plot_time_stamp = 0.0,\n",
    "    time_in_between_plots = 0.5,\n",
    "    periodic_BC           = [False, False],\n",
    ")\n",
    "\n",
    "exahype2_project.set_load_balancing(\n",
    "    \"toolbox::loadbalancing::strategies::SpreadOutOnceGridStagnates\", # SpreadOut, SpreadOutHierarchically\n",
    "    \"new ::exahype2::LoadBalancingConfiguration()\"\n",
    ")\n",
    "\n",
    "exahype2_project.set_Peano4_installation(\"\", peano4.output.CompileMode.Release)\n",
    "peano4_project = exahype2_project.generate_Peano4_project()\n",
    "peano4_project.output.makefile.add_CXX_flag(\"-w\")\n",
    "peano4_project.output.makefile.add_CXX_flag(\"-O3\")\n",
    "peano4_project.output.makefile.add_CXX_flag(\"-DNDEBUG\")\n",
    "peano4_project.output.makefile.add_CXX_flag(\"-DPeanoDebug=0\")\n",
    "peano4_project.generate()\n",
    "peano4_project.build(make=True, make_clean_first=False, throw_away_data_after_build=False)"
   ]
  },
  {
   "cell_type": "code",
   "execution_count": null,
   "metadata": {},
   "outputs": [],
   "source": [
    "!OMP_NUM_THREADS=1 ./Airfoil > output.txt\n",
    "\n",
    "!grep \"initial grid construction\" output.txt | head -n 1\n",
    "!grep \"plotting\" output.txt | head -n 1\n",
    "!grep \"time stepping\" output.txt | head -n 1\n",
    "!grep \"average time per mesh sweep\" output.txt | head -n 1"
   ]
  },
  {
   "cell_type": "code",
   "execution_count": null,
   "metadata": {},
   "outputs": [],
   "source": [
    "!python $PEANO_ROOT/python/peano4/visualisation/render.py solutions/solution-EulerSolver.peano-patch-file"
   ]
  }
 ],
 "metadata": {
  "kernelspec": {
   "display_name": "Python 3 (ipykernel)",
   "language": "python",
   "name": "python3"
  },
  "language_info": {
   "codemirror_mode": {
    "name": "ipython",
    "version": 3
   },
   "file_extension": ".py",
   "mimetype": "text/x-python",
   "name": "python",
   "nbconvert_exporter": "python",
   "pygments_lexer": "ipython3",
   "version": "3.11.6"
  }
 },
 "nbformat": 4,
 "nbformat_minor": 4
}
