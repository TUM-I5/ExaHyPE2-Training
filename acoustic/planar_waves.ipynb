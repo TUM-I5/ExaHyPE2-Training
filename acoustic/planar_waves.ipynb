{
 "cells": [
  {
   "cell_type": "code",
   "execution_count": null,
   "metadata": {},
   "outputs": [],
   "source": [
    "# Remove any generated glue code\n",
    "!find . -mindepth 1 ! \\( -name \"planar_waves.ipynb\" -o -name \"PlanarAcousticSolver.cpp\" -o -name \"exahype.log-filter\" \\) -exec rm -rf {} +"
   ]
  },
  {
   "cell_type": "code",
   "execution_count": null,
   "metadata": {},
   "outputs": [],
   "source": [
    "import peano4, exahype2"
   ]
  },
  {
   "cell_type": "code",
   "execution_count": null,
   "metadata": {},
   "outputs": [],
   "source": [
    "\"\"\"\n",
    "Here, we define an ExaHyPE 2 solver, specifically an ADER-DG solver.\n",
    "  It takes as arguments a name, a polynomial order,\n",
    "  the unknowns, and the allowable cell sizes for the refinement.\n",
    "\"\"\"\n",
    "unknowns = {\"p\": 1, \"v\": 2}\n",
    "auxiliary_variables = {}\n",
    "\n",
    "my_solver = exahype2.solvers.aderdg.rusanov.GlobalAdaptiveTimeStep(\n",
    "    name                  = \"PlanarAcousticSolver\",\n",
    "    order                 = 5,\n",
    "    min_cell_h            = 0.1,\n",
    "    max_cell_h            = 0.1,\n",
    "    time_step_relaxation  = 0.9,\n",
    "    unknowns              = unknowns,\n",
    "    auxiliary_variables   = auxiliary_variables\n",
    ")\n",
    "\n",
    "my_solver.plot_description = \", \".join(unknowns.keys())"
   ]
  },
  {
   "cell_type": "code",
   "execution_count": null,
   "metadata": {},
   "outputs": [],
   "source": [
    "\"\"\"\n",
    "With our solver defined, we can let it know what our equation will look like.\n",
    "  In this case, we will let it know that it only needs a classical flux.\n",
    "\n",
    "  \"exahype2.solvers.PDETerms.User_Defined_Implementation\" lets the project know\n",
    "  that we will manually define the flux in an implementation file.\n",
    "\"\"\"\n",
    "my_solver.set_implementation(\n",
    "    flux = exahype2.solvers.PDETerms.User_Defined_Implementation\n",
    ")\n",
    "\n",
    "\"\"\"\n",
    "In addition, let's add some kernel optimizations:\n",
    "  the acoustic equations are linear, which lets us use an optimized version\n",
    "  of ADER-DG, so let's specify that.\n",
    "\"\"\"\n",
    "my_solver.add_kernel_optimizations(is_linear=True)"
   ]
  },
  {
   "cell_type": "code",
   "execution_count": null,
   "metadata": {},
   "outputs": [],
   "source": [
    "\"\"\"\n",
    "Here, we define an ExaHyPE 2 project to which our solver will be bound.\n",
    "  This takes a namespace for the C++ code and a name for the executable.\n",
    "  We then add our solver to this project and, just for cleanliness, set an output\n",
    "  path for our results.\n",
    "\"\"\"\n",
    "\n",
    "exahype2_project = exahype2.Project(\n",
    "    namespace     = [\"exahype2\", \"training\", \"acoustic\"],\n",
    "    directory     = \".\",\n",
    "    project_name  = \"PlanarWaves\",\n",
    "    executable    = \"PlanarWaves\"\n",
    ")\n",
    "\n",
    "exahype2_project.add_solver(my_solver)\n",
    "exahype2_project.set_output_path(\"solutions\")"
   ]
  },
  {
   "cell_type": "code",
   "execution_count": null,
   "metadata": {},
   "outputs": [],
   "source": [
    "\"\"\"\n",
    "Now that we have an ExaHyPE 2 project, let's populate it with some information:\n",
    "  This is essentially the domain our solver will run in.\n",
    "  The project needs to know the domain size, how long the simulation should run,\n",
    "  how often it should plot the solution, and what type of boundary we use.\n",
    "\"\"\"\n",
    "exahype2_project.set_global_simulation_parameters(\n",
    "    dimensions            = 2,\n",
    "    size                  = [2.0,  2.0],\n",
    "    offset                = [-1.0, -1.0],\n",
    "    min_end_time          = 1.414,  # sqrt(2)\n",
    "    max_end_time          = 1.414,  # sqrt(2)\n",
    "    first_plot_time_stamp = 0.0,\n",
    "    time_in_between_plots = 0.1,\n",
    "    periodic_BC           = [True, True],\n",
    ")"
   ]
  },
  {
   "cell_type": "code",
   "execution_count": null,
   "metadata": {},
   "outputs": [],
   "source": [
    "\"\"\"\n",
    "Finally, we specify some optimizations for parallel runs and compile the project.\n",
    "\"\"\"\n",
    "exahype2_project.set_load_balancing(\n",
    "    \"toolbox::loadbalancing::strategies::SpreadOutOnceGridStagnates\",\n",
    "    \"new ::exahype2::LoadBalancingConfiguration()\"\n",
    ")\n",
    "\n",
    "exahype2_project.set_Peano4_installation(\"\", peano4.output.CompileMode.Release)\n",
    "\n",
    "peano4_project = exahype2_project.generate_Peano4_project()\n",
    "peano4_project.output.makefile.add_CXX_flag(\"-w\")\n",
    "peano4_project.build(make=True, make_clean_first=True, throw_away_data_after_build=True)"
   ]
  },
  {
   "cell_type": "code",
   "execution_count": null,
   "metadata": {},
   "outputs": [],
   "source": [
    "!OMP_NUM_THREADS=4 ./PlanarWaves > output.txt 2>&1"
   ]
  },
  {
   "cell_type": "code",
   "execution_count": null,
   "metadata": {},
   "outputs": [],
   "source": [
    "!python $PEANO_ROOT/python/peano4/visualisation/render.py solutions/solution-PlanarAcousticSolver.peano-patch-file"
   ]
  }
 ],
 "metadata": {
  "kernelspec": {
   "display_name": "Python 3 (ipykernel)",
   "language": "python",
   "name": "python3"
  },
  "language_info": {
   "codemirror_mode": {
    "name": "ipython",
    "version": 3
   },
   "file_extension": ".py",
   "mimetype": "text/x-python",
   "name": "python",
   "nbconvert_exporter": "python",
   "pygments_lexer": "ipython3",
   "version": "3.11.6"
  }
 },
 "nbformat": 4,
 "nbformat_minor": 4
}
